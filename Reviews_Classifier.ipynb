{
 "cells": [
  {
   "cell_type": "code",
   "execution_count": null,
   "metadata": {},
   "outputs": [],
   "source": [
    "#import packages\n",
    "import numpy as np\n",
    "import pandas as pd\n",
    "import re\n",
    "import nltk\n",
    "from nltk.stem.porter import PorterStemmer\n",
    "from nltk.corpus import stopwords\n",
    "import sklearn\n",
    "from sklearn.model_selection import train_test_split\n",
    "from sklearn.feature_extraction.text import CountVectorizer\n",
    "from sklearn.ensemble import RandomForestClassifier\n",
    "\n",
    "#read in the input raw dataset\n",
    "\n",
    "dataset = pd.read_csv('Input/Dataset', delimiter = '\\t')\n",
    "dataset.head(5)\n",
    "\n",
    "nltk.download('stopwords')\n",
    "\n",
    "#placeholder for cleaned reviews\n",
    "clean_review = []\n",
    "for i in range(len(dataset)):\n",
    "    #keep letters only text\n",
    "    review = re.sub('[^a-zA-Z]', ' ', dataset['Review'][i])\n",
    "    #split the text to get meaningful words\n",
    "    review = review.split()\n",
    "    ps = PorterStemmer()\n",
    "\n",
    "    #reduce derived words and remove stopwords\n",
    "    review = [ps.stem(word) for word in review if not word in set(stopwords.words('english'))]\n",
    "    review = ' '.join(review)\n",
    "    clean_review.append(review)\n",
    "\n",
    "cv = CountVectorizer(max_features = 1500)\n",
    "\n",
    "X = cv.fit_transform(clean_review).toarray()\n",
    "\n",
    "y = dataset.iloc[:,1].values\n",
    "\n",
    "#split the dataset into 75% train_set and 25% test_set\n",
    "X_train, X_test, y_train, y_test = train_test_split(X, y, test_size =0.25)\n",
    "\n",
    "#use Random Forest Classifier to fit the model and predict the reviews\n",
    "clf = RandomForestClassifier(n_estimators = 501, criterion = 'entropy')\n",
    "clf.fit(X_train, y_train)\n",
    "\n",
    "y_pred = clf.predict(X_test)\n",
    "y_pred\n",
    "\n",
    "#evaluate the output using odds ratios\n",
    "#true positive, true negative, false positive, false negative\n",
    "from sklearn.metrics import confusion_matrix\n",
    "cm = confusion_matrix(y_test, y_pred)\n",
    "cm"
   ]
  }
 ],
 "metadata": {
  "kernelspec": {
   "display_name": "Python 3",
   "language": "python",
   "name": "python3"
  },
  "language_info": {
   "codemirror_mode": {
    "name": "ipython",
    "version": 3
   },
   "file_extension": ".py",
   "mimetype": "text/x-python",
   "name": "python",
   "nbconvert_exporter": "python",
   "pygments_lexer": "ipython3",
   "version": "3.7.3"
  }
 },
 "nbformat": 4,
 "nbformat_minor": 2
}
